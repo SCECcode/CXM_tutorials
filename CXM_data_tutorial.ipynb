{
 "cells": [
  {
   "cell_type": "markdown",
   "id": "ce2d1648",
   "metadata": {},
   "source": [
    "# SCEC Community Model Data Access Tutorial\n",
    "\n",
    "This is a short introduction to the SCEC Community Models. The SCEC Community models describe a wide range of features of the southern California lithosphere and asthenosphere. These features include: elastic and attenuation properties (Community Velocity Model, CVM), temperature (Community Thermal Model, CTM), rheology (Community Rheology Model, CRM), stress and stressing rate (Community Stress Model, CSM), deformation rate (Community Geodetic Model, CGM), and fault geometry (Community Fault Model, CFM). \n",
    "\n",
    "The SCEC CXM developments are lead by the SCEC CXM working group. The ultimate long-term goal of the CXM working group is to provide an internally consistent suite of models that can be used together to simulate seismic phenomena in southern California.\n",
    " \n",
    "[SCEC CXM Home Page](https://scec.org/research/cxm)\n"
   ]
  },
  {
   "cell_type": "markdown",
   "id": "3a62d42d",
   "metadata": {},
   "source": []
  },
  {
   "cell_type": "code",
   "execution_count": null,
   "id": "35ed1086",
   "metadata": {},
   "outputs": [],
   "source": []
  }
 ],
 "metadata": {
  "kernelspec": {
   "display_name": "Python 3 (ipykernel)",
   "language": "python",
   "name": "python3"
  },
  "language_info": {
   "codemirror_mode": {
    "name": "ipython",
    "version": 3
   },
   "file_extension": ".py",
   "mimetype": "text/x-python",
   "name": "python",
   "nbconvert_exporter": "python",
   "pygments_lexer": "ipython3",
   "version": "3.8.15"
  }
 },
 "nbformat": 4,
 "nbformat_minor": 5
}
