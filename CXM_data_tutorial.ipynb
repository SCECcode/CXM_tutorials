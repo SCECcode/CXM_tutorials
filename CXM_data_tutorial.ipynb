{
 "cells": [
  {
   "cell_type": "markdown",
   "id": "ce2d1648",
   "metadata": {},
   "source": [
    "# SCEC Community Model Data Access Tutorial\n",
    "\n",
    "This is a short introduction to the SCEC Community Models. The SCEC Community models describe a wide range of features of the southern California lithosphere and asthenosphere. These features include: elastic and attenuation properties (Community Velocity Model, CVM), temperature (Community Thermal Model, CTM), rheology (Community Rheology Model, CRM), stress and stressing rate (Community Stress Model, CSM), deformation rate (Community Geodetic Model, CGM), and fault geometry (Community Fault Model, CFM). \n",
    "\n",
    "The SCEC CXM developments are lead by the SCEC CXM working group. The ultimate long-term goal of the CXM working group is to provide an internally consistent suite of models that can be used together to simulate seismic phenomena in southern California.\n",
    " \n",
    "[SCEC CXM Home Page](https://scec.org/research/cxm)\n"
   ]
  },
  {
   "cell_type": "markdown",
   "id": "50a32a02",
   "metadata": {},
   "source": [
    "# Access to SCEC Community Community Models:\n",
    "\tReasons/Motivations for SCEC CXMS\n",
    "\tExample “Use Cases”\n",
    "\tFocus on workshop is how to access the CXM data.\n"
   ]
  },
  {
   "cell_type": "markdown",
   "id": "0d3f831e",
   "metadata": {},
   "source": [
    "\n",
    "# Community Fault Model:\n",
    "\n",
    "[CFM Home Page:](https://www.scec.org/research/cfm)\n",
    "\n",
    "The faults of the SCEC Community Fault Model are three-dimensional and non-planar; however, to simplify browsing the model, the viewer below provides a two-dimensional map-based view of the CFM. \n",
    "Most recent release is CFM 6.0\n",
    "\tCommunity Process for Developing and improving.\n",
    "\tCFM 6.0 presents alternatives and “Preferred” models, and earlier versions\n",
    "\t\n",
    "[Web Viewer Capabilities:](https://www.scec.org/research/cfm-viewer/6.0/preferred/)\n",
    "\t\tSearch by Name, Keyword, Latlon, area…\n",
    "\t\tDownloads\n",
    "\t\tUpload KMZ files\n",
    "\n",
    "## Information in Viewer:\n",
    "\t\tSurface expressions\n",
    "\t\tFault information name, area, zone, update, strike, dip, area\n",
    "\t\tOverlays topography, seismicity\n",
    "\t\tFor selected faults:\n",
    "        3D Views\n",
    "\t\t\n",
    "## Downloads:\n",
    "\t           Geometry files at native, 500m, 1km, 2km resolution, metadata, or all\n",
    "\t           Zip files containing tsurf files, metadata in csv format.\n",
    "\t           \tTools to read ts files include GoCAD\n",
    "\n",
    "## Exercise: Find and download fault geometry for Newport Inglewood Fault"
   ]
  },
  {
   "cell_type": "markdown",
   "id": "06407c07",
   "metadata": {},
   "source": [
    "\n",
    "# Community Velocity Models:\n",
    "\tTypical information provided by Models:\n",
    "\t\tVp, Vs, density\n",
    "\t\tExternal calculated (scaled) Qp, Qs\n",
    "\tList of supported CVMS and Key Differences between CVMs:\n",
    "\t\tFlat vs. Topography\n",
    "\t\tRegional coverage\n",
    "\t\tBackground models\n",
    "\t\tSurface resolution and information\n",
    "\t\tStand alone basin models\n",
    "\n",
    "[Webviewer:](http://moho.scec.org/UCVM_web/web/viewer.php)\n",
    "\t\tPrototype website provides access to UCVM models\n",
    "Wide range of CVM Model selections\n",
    "Selection of new surface modifications , tiled, and background models\n",
    "\t\tQuery types point, profile, cross-sections, slices\n",
    "\t\tDownload plots, data files, metadata\n",
    "\t\tOverlay GFM/CTM/CFM\n",
    "\n",
    "\tSoftware Access via UCVM: https://github.com/SCECcode/ucvm\n",
    "\t\tLarge-scale usage for ground motion simulations\n",
    "\t\tUCVM build requirements\n",
    "\t\tDocker version for individual models\n",
    "\n",
    "## Exercise: Plot vertical profile for LA City Hall and download image, data, and metadata"
   ]
  },
  {
   "cell_type": "markdown",
   "id": "16187843",
   "metadata": {},
   "source": [
    "# Community Geodetic Model:\n",
    "\tThe CGM provides access to GNSS and InSAR velocity data and timeseries.\n",
    "\tResearch Page Viewers: https://www.scec.org/research/cgm\n",
    "\tExternally operated Web access and viewers:\n",
    "\t\tGPS Velocity Data\n",
    "InSAR Velocity Data\n",
    "Horizontal Velocity Grids V1.0\n",
    "Model Comparisons\n",
    "\n",
    "Web-accessible Data Files for CGM Version 1:\n",
    "    Average velocities from continuous GNSS sites\n",
    "    Average velocities from survey GNSS sites\n",
    "    Consensus horizontal velocity and strain rate grids interpolated from GNSS\n",
    "    Line-of-sight (LOS) velocities at 500 m spatial resolution from archive of InSAR data (1992-2011)\n",
    "\n",
    "Prototype Web-Viewer: http://moho.scec.org/cgm-viewer/\n",
    "\tSelect data types including GNSS, GNSS vectors, inSAR\n",
    "\tOverlay CFM Faults\n",
    "\tSelect InSAR by Track Number\n",
    "\t\tSpecify lat/lon box\n",
    "\t\tShow plots\n",
    "View GNSS Information E-N velocity, h. velocity, vertical vel, time series plots\n",
    "\tSearch by GNSS by name, area box, \n",
    "Search GNSS vector by range\n",
    "\n",
    "## Exercise: Plot timeseries of GNSS site : LBC1"
   ]
  },
  {
   "cell_type": "markdown",
   "id": "f3a0e06f",
   "metadata": {},
   "source": [
    "# Geological Framework Model\n",
    "The Geological Framework Model (GFM) describes rock type (lithologies) using six different minerals (Quartz, Feldspar,Biotite,Pyroxene,Amphibole,Olivine)\n",
    "\n",
    "[Model geometries distributed as part of CRM in Zenodo:](https://zenodo.org/record/4579627#.ZEl93HbMJhE)\n",
    "\n",
    "[GFM/CTM Webviewer:](https://moho.scec.org/GFM_web/web/viewer.php)\n",
    "\t\tQuery points and return Elev, CVM-H Vp, Vs, Density, GFM region, Lithology, Heat flow region, and Smoothed CTM value\n",
    "\t\tSupport upload of multiple points in elev format: -118.000 34.000 -10000\n",
    "\n",
    "## Exercise: Determine the GFM region for USC (lat,long)"
   ]
  },
  {
   "cell_type": "markdown",
   "id": "ef2ab6f5",
   "metadata": {},
   "source": [
    "# Community Thermal Model\n",
    "The CTM provides estimates of temperatures and thermal properties of the southern California lithosphere. The CTM temperatures are calculated using rules for specific heat flow regions defined in the GFM, including steady-state geotherm models, ocean crust heat flow models, and low mean heat flow models.\n",
    "\n",
    "[CTM Research Page:](https://www.scec.org/research/ctm)\n",
    "\n",
    "[CTM Zenodo:](https://zenodo.org/record/4010834#.ZEl-IHbMJhE)\n",
    "\n",
    "\tModel distributed on Zenodo as 21.2MB File containing: \n",
    "components and metadata\n",
    "Google Colab notebook query tool with associated files\n",
    "an alternative (Shinevar et al., 2018) thermal model.\n",
    "\n",
    "[GFM/CTM Webviewer:](https://moho.scec.org/GFM_web/web/viewer.php)\n",
    "\t\tQuery points and return Elev, CVM-H Vp, Vs, Density, GFM region, Lithology, Heat flow region, and Smoothed CTM value\n",
    "\t\tSupport upload of multiple points in elev format: -118.000 34.000 -10000\n",
    "\t\t\n",
    "## Exercise: Determine the Lithology type and Temp (degrees C) for for USC (lat,long) at 10km depth"
   ]
  },
  {
   "cell_type": "markdown",
   "id": "b61de35c",
   "metadata": {},
   "source": [
    "\n",
    "\n",
    "# Community Rheology Model \n",
    "The CRM provides a model for southern California’s ductile rheology. Given strain rate(s), effective viscosity and differential stress may be calculated throughout the region.\n",
    "\n",
    "[CRM Research Page:](https://www.scec.org/research/crm)\n",
    "\n",
    "[CRM Zenodo Page:](https://zenodo.org/record/4579627#.ZEl93HbMJhE)\n",
    "\tModel distributed on Zenodo\tas 3.1Mb Zip file containing:\n",
    "\t\tA three-dimensional GFM of southern California’s lithosphere\n",
    "\t\tFormats include shape files, csv files \n",
    "\t\tDuctile flow laws for each GFM rock type.\n",
    "\t\t\tA Table of CRM aggregate rheology parameters for the GF rock type\n",
    "Profiles of effective viscosity for each rock type.\n",
    "\t\t\tMatlab codes used to calculate aggregate rheologies\n",
    "\n",
    "## Exercise: TBD\n"
   ]
  },
  {
   "cell_type": "code",
   "execution_count": null,
   "id": "538eb481",
   "metadata": {},
   "outputs": [],
   "source": []
  }
 ],
 "metadata": {
  "kernelspec": {
   "display_name": "Python 3 (ipykernel)",
   "language": "python",
   "name": "python3"
  },
  "language_info": {
   "codemirror_mode": {
    "name": "ipython",
    "version": 3
   },
   "file_extension": ".py",
   "mimetype": "text/x-python",
   "name": "python",
   "nbconvert_exporter": "python",
   "pygments_lexer": "ipython3",
   "version": "3.8.15"
  }
 },
 "nbformat": 4,
 "nbformat_minor": 5
}
